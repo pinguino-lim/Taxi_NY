{
 "cells": [
  {
   "cell_type": "code",
   "execution_count": 63,
   "metadata": {},
   "outputs": [],
   "source": [
    "import pandas as pd\n",
    "import numpy as np\n",
    "from IPython.display import display\n",
    "from sklearn import metrics\n",
    "import matplotlib.pyplot as plt\n",
    "import math\n",
    "import random\n",
    "import datetime as dt\n",
    "import glob\n",
    "import seaborn as sns\n",
    "from scipy import stats\n",
    "from pylab import figure, scatter, show\n",
    "from matplotlib import colors\n",
    "\n",
    "from sklearn.model_selection import train_test_split\n",
    "from sklearn.datasets import load_iris\n",
    "from sklearn.tree import DecisionTreeClassifier\n",
    "from sklearn import preprocessing"
   ]
  },
  {
   "cell_type": "code",
   "execution_count": 2,
   "metadata": {},
   "outputs": [],
   "source": [
    "allFiles = glob.glob(\"*.csv\")\n",
    "frame = pd.DataFrame()\n",
    "list_ = []\n",
    "\n",
    "for file_ in allFiles:\n",
    "    num_lines = sum(1 for l in open(file_))\n",
    "    # Sample size - in this case ~1%\n",
    "    size = int(num_lines / 100)\n",
    "\n",
    "    skip_idx = random.sample(range(1, num_lines), num_lines - size)\n",
    "\n",
    "    df = pd.read_csv(file_, skiprows=skip_idx, index_col=None, header=0 )\n",
    "    list_.append(df)\n",
    "    \n",
    "yellow = pd.concat(list_)"
   ]
  },
  {
   "cell_type": "code",
   "execution_count": 3,
   "metadata": {},
   "outputs": [
    {
     "name": "stdout",
     "output_type": "stream",
     "text": [
      "<class 'pandas.core.frame.DataFrame'>\n",
      "Int64Index: 292360 entries, 0 to 92846\n",
      "Data columns (total 17 columns):\n",
      "VendorID                 292360 non-null int64\n",
      "tpep_pickup_datetime     292360 non-null object\n",
      "tpep_dropoff_datetime    292360 non-null object\n",
      "passenger_count          292360 non-null int64\n",
      "trip_distance            292360 non-null float64\n",
      "RatecodeID               292360 non-null int64\n",
      "store_and_fwd_flag       292360 non-null object\n",
      "PULocationID             292360 non-null int64\n",
      "DOLocationID             292360 non-null int64\n",
      "payment_type             292360 non-null int64\n",
      "fare_amount              292360 non-null float64\n",
      "extra                    292360 non-null float64\n",
      "mta_tax                  292360 non-null float64\n",
      "tip_amount               292360 non-null float64\n",
      "tolls_amount             292360 non-null float64\n",
      "improvement_surcharge    292360 non-null float64\n",
      "total_amount             292360 non-null float64\n",
      "dtypes: float64(8), int64(6), object(3)\n",
      "memory usage: 40.1+ MB\n"
     ]
    }
   ],
   "source": [
    "yellow.info()"
   ]
  },
  {
   "cell_type": "code",
   "execution_count": 5,
   "metadata": {},
   "outputs": [],
   "source": [
    "data = yellow[(yellow['passenger_count'] < 10) & \n",
    "                        (yellow['passenger_count'] > 0) & \n",
    "                        (yellow['extra'] >= 0) &\n",
    "                        (yellow['extra'] <= 1) &\n",
    "                        (yellow['RatecodeID'] < 7) &\n",
    "                        (yellow['trip_distance'] > 0) &\n",
    "                        (yellow['mta_tax'] >= 0) &\n",
    "                        (yellow['tip_amount'] >= 0) &\n",
    "                        (yellow['tolls_amount'] >= 0) &\n",
    "                        (yellow['improvement_surcharge'] > 0) &\n",
    "                        (yellow['total_amount'] > 0)]\n",
    "\n",
    "data = data.replace({'store_and_fwd_flag': {'Y': 1, 'N': 0}})\n",
    "\n",
    "data['tpep_pickup_datetime'] = data.tpep_pickup_datetime.apply(lambda x:dt.datetime.strptime(x,\"%Y-%m-%d %H:%M:%S\"))\n",
    "data['tpep_dropoff_datetime'] = data.tpep_dropoff_datetime.apply(lambda x:dt.datetime.strptime(x,\"%Y-%m-%d %H:%M:%S\"))\n",
    "\n",
    "data['pickup_hour'] = data.tpep_pickup_datetime.apply(lambda x: x.hour)\n",
    "data['pickup_day'] = data.tpep_pickup_datetime.apply(lambda x: x.weekday())\n",
    "data = data.assign(duration = lambda x: ((x.tpep_dropoff_datetime-x.tpep_pickup_datetime)/ np.timedelta64(1, 'm')))\n",
    "data = data.assign(before_tip = lambda x: (x.total_amount-x.tip_amount))\n"
   ]
  },
  {
   "cell_type": "code",
   "execution_count": 272,
   "metadata": {},
   "outputs": [],
   "source": [
    "tip_data = data[(data['payment_type'] == 1)]"
   ]
  },
  {
   "cell_type": "code",
   "execution_count": 273,
   "metadata": {},
   "outputs": [],
   "source": [
    "tip_data = tip_data.assign(tip_percentage_2 = lambda x: (x.tip_amount/(x.before_tip))*100)\n",
    "tip_data['tip_no_paid'] = tip_data.tip_amount.isin([0]).astype(np.int64)\n",
    "tip_data = tip_data[(tip_data['tip_no_paid'] == 0)]"
   ]
  },
  {
   "cell_type": "code",
   "execution_count": 299,
   "metadata": {},
   "outputs": [],
   "source": [
    "tip_data = tip_data[(np.abs(stats.zscore(tip_data[['tip_amount','before_tip']])) < 3).all(axis=1)]\n"
   ]
  },
  {
   "cell_type": "code",
   "execution_count": 331,
   "metadata": {},
   "outputs": [],
   "source": [
    "df = tip_data.iloc[random.sample(range(len(tip_data)),10000),]"
   ]
  },
  {
   "cell_type": "code",
   "execution_count": 332,
   "metadata": {},
   "outputs": [],
   "source": [
    "x = pd.DataFrame({'x':(df['before_tip'].reset_index())['before_tip']})\n",
    "y = (df['tip_amount'].values)\n",
    "y = y[:,None]"
   ]
  },
  {
   "cell_type": "code",
   "execution_count": 333,
   "metadata": {},
   "outputs": [],
   "source": [
    "class DecisionTree():\n",
    "    def __init__(self, x, y, idxs = None, min_leaf=2):\n",
    "        if idxs is None: idxs=np.arange(len(y))\n",
    "        self.x,self.y,self.idxs,self.min_leaf = x,y,idxs,min_leaf\n",
    "        self.n,self.c = len(idxs), x.shape[1]\n",
    "        self.val = np.mean(y[idxs])\n",
    "        self.score = float('inf')\n",
    "        self.find_varsplit()\n",
    "        \n",
    "    def find_varsplit(self):\n",
    "        for i in range(self.c): self.find_better_split(i)\n",
    "        if self.score == float('inf'): return\n",
    "        x = self.split_col\n",
    "        lhs = np.nonzero(x<=self.split)[0]\n",
    "        rhs = np.nonzero(x>self.split)[0]\n",
    "        self.lhs = DecisionTree(self.x, self.y, self.idxs[lhs])\n",
    "        self.rhs = DecisionTree(self.x, self.y, self.idxs[rhs])\n",
    "\n",
    "    def find_better_split(self, var_idx):\n",
    "        x,y = self.x.values[self.idxs,var_idx], self.y[self.idxs]\n",
    "        sort_idx = np.argsort(x)\n",
    "        sort_y,sort_x = y[sort_idx], x[sort_idx]\n",
    "        rhs_cnt,rhs_sum,rhs_sum2 = self.n, sort_y.sum(), (sort_y**2).sum()\n",
    "        lhs_cnt,lhs_sum,lhs_sum2 = 0,0.,0.\n",
    "\n",
    "        for i in range(0,self.n-self.min_leaf-1):\n",
    "            xi,yi = sort_x[i],sort_y[i]\n",
    "            lhs_cnt += 1; rhs_cnt -= 1\n",
    "            lhs_sum += yi; rhs_sum -= yi\n",
    "            lhs_sum2 += yi**2; rhs_sum2 -= yi**2\n",
    "            if i<self.min_leaf or xi==sort_x[i+1]:\n",
    "                continue\n",
    "\n",
    "            lhs_std = std_agg(lhs_cnt, lhs_sum, lhs_sum2)\n",
    "            rhs_std = std_agg(rhs_cnt, rhs_sum, rhs_sum2)\n",
    "            curr_score = lhs_std*lhs_cnt + rhs_std*rhs_cnt\n",
    "            if curr_score<self.score: \n",
    "                self.var_idx,self.score,self.split = var_idx,curr_score,xi\n",
    "\n",
    "    @property\n",
    "    def split_name(self): return self.x.columns[self.var_idx]\n",
    "    \n",
    "    @property\n",
    "    def split_col(self): return self.x.values[self.idxs,self.var_idx]\n",
    "\n",
    "    @property\n",
    "    def is_leaf(self): return self.score == float('inf')\n",
    "    \n",
    "    def __repr__(self):\n",
    "        s = f'n: {self.n}; val:{self.val}'\n",
    "        if not self.is_leaf:\n",
    "            s += f'; score:{self.score}; split:{self.split}; var:{self.split_name}'\n",
    "        return s\n",
    "\n",
    "    def predict(self, x):\n",
    "        return np.array([self.predict_row(xi) for xi in x])\n",
    "\n",
    "    def predict_row(self, xi):\n",
    "        if self.is_leaf: return self.val\n",
    "        t = self.lhs if xi[self.var_idx]<=self.split else self.rhs\n",
    "        return t.predict_row(xi)"
   ]
  },
  {
   "cell_type": "code",
   "execution_count": 334,
   "metadata": {},
   "outputs": [],
   "source": [
    "def std_agg(cnt, s1, s2): return math.sqrt(abs((s2/cnt) - (s1/cnt)**2))\n"
   ]
  },
  {
   "cell_type": "code",
   "execution_count": 335,
   "metadata": {},
   "outputs": [
    {
     "data": {
      "text/plain": [
       "((10000, 1), (10000, 1), RangeIndex(start=0, stop=10000, step=1))"
      ]
     },
     "execution_count": 335,
     "metadata": {},
     "output_type": "execute_result"
    }
   ],
   "source": [
    "x.shape, y.shape, x.index"
   ]
  },
  {
   "cell_type": "code",
   "execution_count": 336,
   "metadata": {},
   "outputs": [
    {
     "data": {
      "text/plain": [
       "[<matplotlib.lines.Line2D at 0x1ddd666b160>]"
      ]
     },
     "execution_count": 336,
     "metadata": {},
     "output_type": "execute_result"
    },
    {
     "data": {
      "image/png": "[encoded data removed]",
      "text/plain": [
       "<Figure size 504x360 with 1 Axes>"
      ]
     },
     "metadata": {},
     "output_type": "display_data"
    }
   ],
   "source": [
    "plt.figure(figsize=(7,5))\n",
    "plt.plot(x,y, 'o')"
   ]
  },
  {
   "cell_type": "code",
   "execution_count": null,
   "metadata": {
    "scrolled": false
   },
   "outputs": [],
   "source": [
    "xi = x # initialization of input\n",
    "yi = y # initialization of target\n",
    "# x,y --> use where no need to change original y\n",
    "ei = 0 # initialization of error\n",
    "n = len(yi)  # number of rows\n",
    "predf = 0 # initial prediction 0\n",
    "\n",
    "for i in range(80): # like n_estimators\n",
    "    tree = DecisionTree(xi,yi)\n",
    "    tree.find_better_split(0)  # For selected input variable, this splits (<n and >n) data so that std. deviation of \n",
    "                               # target variable in both splits is minimum as compared to all other splits\n",
    "    \n",
    "    r = np.where(xi == tree.split)[0][0]    #  finds index where this best split occurs\n",
    "    \n",
    "    left_idx = np.where(xi <= tree.split)[0]   # index lhs of split\n",
    "    right_idx = np.where(xi > tree.split)[0]   # index rhs of split\n",
    "    \n",
    "    predi = np.zeros(n)\n",
    "    np.put(predi, left_idx, np.repeat(np.mean(yi[left_idx]), r))  # replace left side mean y\n",
    "    np.put(predi, right_idx, np.repeat(np.mean(yi[right_idx]), n-r))  # right side mean y\n",
    "    \n",
    "    predi = predi[:,None]  # make long vector (nx1) in compatible with y\n",
    "    predf = predf + predi  # final prediction will be previous prediction value + new prediction of residual\n",
    "    \n",
    "    ei = y - predf  # needed originl y here as residual always from original y    \n",
    "    yi = ei # update yi as residual to reloop\n",
    "    \n",
    "    \n",
    "    # plotting after prediction\n",
    "    xa = np.array(x.x) # column name of x is x \n",
    "    order = np.argsort(xa)\n",
    "    xs = np.array(xa)[order]\n",
    "    ys = np.array(predf)[order]\n",
    "    \n",
    "    #epreds = np.array(epred[:,None])[order]\n",
    "    if i >70 :\n",
    "        f, (ax1, ax2) = plt.subplots(1, 2, sharey=True, figsize = (13,2.5))\n",
    "\n",
    "        ax1.plot(x,y, 'o')\n",
    "        ax1.plot(xs, ys, 'r')\n",
    "        ax1.set_title(f'Prediction (Iteration {i+1})')\n",
    "        ax1.set_xlabel('x')\n",
    "        ax1.set_ylabel('y / y_pred')\n",
    "\n",
    "        ax2.plot(x, ei, 'go')\n",
    "        ax2.set_title(f'Residuals vs. x (Iteration {i+1})')\n",
    "        ax2.set_xlabel('x')\n",
    "        ax2.set_ylabel('Residuals')\n",
    "    else: pass"
   ]
  },
  {
   "cell_type": "code",
   "execution_count": null,
   "metadata": {},
   "outputs": [],
   "source": []
  }
 ],
 "metadata": {
  "kernelspec": {
   "display_name": "Python 3",
   "language": "python",
   "name": "python3"
  },
  "language_info": {
   "codemirror_mode": {
    "name": "ipython",
    "version": 3
   },
   "file_extension": ".py",
   "mimetype": "text/x-python",
   "name": "python",
   "nbconvert_exporter": "python",
   "pygments_lexer": "ipython3",
   "version": "3.6.5"
  }
 },
 "nbformat": 4,
 "nbformat_minor": 2
}
