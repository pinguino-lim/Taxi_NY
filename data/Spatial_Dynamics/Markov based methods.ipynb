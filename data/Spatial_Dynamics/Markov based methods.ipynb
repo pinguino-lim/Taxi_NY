{
 "cells": [
  {
   "cell_type": "markdown",
   "metadata": {},
   "source": [
    "# Spatial Dynamics: Markov based methods"
   ]
  },
  {
   "cell_type": "markdown",
   "metadata": {},
   "source": [
    "Markov chain's assumption is that the observations are on the rows of the input and the different points in time on the columns."
   ]
  },
  {
   "cell_type": "code",
   "execution_count": 1,
   "metadata": {},
   "outputs": [
    {
     "name": "stderr",
     "output_type": "stream",
     "text": [
      "C:\\Users\\hyelim\\Anaconda3\\lib\\site-packages\\pysal\\__init__.py:65: VisibleDeprecationWarning: PySAL's API will be changed on 2018-12-31. The last release made with this API is version 1.14.4. A preview of the next API version is provided in the `pysal` 2.0 prelease candidate. The API changes and a guide on how to change imports is provided at https://pysal.org/about\n",
      "  ), VisibleDeprecationWarning)\n"
     ]
    },
    {
     "data": {
      "text/plain": [
       "((5, 3), array([['b', 'a', 'c'],\n",
       "        ['c', 'c', 'a'],\n",
       "        ['c', 'b', 'c'],\n",
       "        ['a', 'a', 'b'],\n",
       "        ['a', 'b', 'c']], dtype='<U1'))"
      ]
     },
     "execution_count": 1,
     "metadata": {},
     "output_type": "execute_result"
    }
   ],
   "source": [
    "import pysal\n",
    "import numpy as np\n",
    "\n",
    "# 3 states (a,b,c) and 5 different pixels at three different points in time.\n",
    "# So the first pixel was in class ‘b’ in period 1, class ‘a’ in period 2, and class ‘c’ in period 3.\n",
    "c = np.array([['b','a','c'],['c','c','a'],['c','b','c'],['a','a','b'],['a','b','c']])\n",
    "c.shape, c"
   ]
  },
  {
   "cell_type": "code",
   "execution_count": 2,
   "metadata": {},
   "outputs": [
    {
     "data": {
      "text/plain": [
       "array(['a', 'b', 'c'], dtype='<U1')"
      ]
     },
     "execution_count": 2,
     "metadata": {},
     "output_type": "execute_result"
    }
   ],
   "source": [
    "m = pysal.Markov(c)\n",
    "m.classes  # array (k, 1), all different classes (bins) of the matrix."
   ]
  },
  {
   "cell_type": "code",
   "execution_count": 3,
   "metadata": {},
   "outputs": [
    {
     "data": {
      "text/plain": [
       "array([[1., 2., 1.],\n",
       "       [1., 0., 2.],\n",
       "       [1., 1., 1.]])"
      ]
     },
     "execution_count": 3,
     "metadata": {},
     "output_type": "execute_result"
    }
   ],
   "source": [
    "m.transitions  # matrix (k, k), count of transitions between each state i and j."
   ]
  },
  {
   "cell_type": "code",
   "execution_count": 4,
   "metadata": {},
   "outputs": [
    {
     "data": {
      "text/plain": [
       "matrix([[0.25      , 0.5       , 0.25      ],\n",
       "        [0.33333333, 0.        , 0.66666667],\n",
       "        [0.33333333, 0.33333333, 0.33333333]])"
      ]
     },
     "execution_count": 4,
     "metadata": {},
     "output_type": "execute_result"
    }
   ],
   "source": [
    "m.p  # matrix (k, k), transition probability matrix."
   ]
  },
  {
   "cell_type": "code",
   "execution_count": 5,
   "metadata": {},
   "outputs": [
    {
     "data": {
      "text/plain": [
       "matrix([[0.30769231],\n",
       "        [0.28846154],\n",
       "        [0.40384615]])"
      ]
     },
     "execution_count": 5,
     "metadata": {},
     "output_type": "execute_result"
    }
   ],
   "source": [
    "m.steady_state  # matrix (k, 1), ergodic distribution."
   ]
  },
  {
   "cell_type": "code",
   "execution_count": null,
   "metadata": {},
   "outputs": [],
   "source": []
  },
  {
   "cell_type": "code",
   "execution_count": null,
   "metadata": {},
   "outputs": [],
   "source": []
  },
  {
   "cell_type": "code",
   "execution_count": 6,
   "metadata": {},
   "outputs": [],
   "source": [
    "import geopandas as gpd\n",
    "import pysal as ps\n",
    "import matplotlib.pyplot as plt\n",
    "import pandas as pd\n",
    "import random\n",
    "import numpy as np\n",
    "import datetime as dt\n",
    "import glob\n",
    "import matplotlib.pyplot as plt\n",
    "import seaborn as sns\n",
    "from scipy import stats\n",
    "from pylab import figure, scatter, show\n",
    "from matplotlib import colors\n",
    "import csv\n",
    "import requests\n",
    "import zipfile, urllib, os\n",
    "from urllib.request import Request,urlopen, urlretrieve\n",
    "import urllib\n",
    "\n",
    "import warnings\n",
    "warnings.filterwarnings('ignore')"
   ]
  },
  {
   "cell_type": "raw",
   "metadata": {},
   "source": [
    "urls = ['https://s3.amazonaws.com/nyc-tlc/trip+data/yellow_tripdata_{}-07.csv'.format(a) for a in [2017,2016,2015]]\n",
    "\n",
    "\n",
    "dfs = [pd.read_csv(url) for url in urls]\n",
    "\n",
    "df = pd.concat(dfs.sample(frac=0.001))"
   ]
  },
  {
   "cell_type": "code",
   "execution_count": 7,
   "metadata": {},
   "outputs": [
    {
     "data": {
      "text/plain": [
       "['taxi_data\\\\yellow_tripdata_2017-03.csv',\n",
       " 'taxi_data\\\\yellow_tripdata_2017-06.csv',\n",
       " 'taxi_data\\\\yellow_tripdata_2017-11.csv']"
      ]
     },
     "execution_count": 7,
     "metadata": {},
     "output_type": "execute_result"
    }
   ],
   "source": [
    "allFiles = glob.glob(r\"taxi_data/*.csv\")\n",
    "allFiles"
   ]
  },
  {
   "cell_type": "code",
   "execution_count": 8,
   "metadata": {},
   "outputs": [],
   "source": [
    "\n",
    "frame = pd.DataFrame()\n",
    "list_ = []\n",
    "\n",
    "for file_ in allFiles:\n",
    "    num_lines = sum(1 for l in open(file_))\n",
    "   \n",
    "\n",
    "    df = pd.read_csv(file_, header=0 ).sample(frac=0.01)\n",
    "    list_.append(df)\n",
    "    \n",
    "df = pd.concat(list_)"
   ]
  },
  {
   "cell_type": "code",
   "execution_count": 9,
   "metadata": {},
   "outputs": [],
   "source": [
    "df_clean = df[(df['passenger_count'] < 10) & \n",
    "                        (df['passenger_count'] > 0) & \n",
    "                        (df['extra'] >= 0) &\n",
    "                        (df['extra'] <= 1) &\n",
    "                        (df['RatecodeID'] < 7) &\n",
    "                        (df['mta_tax'] >= 0) &\n",
    "                        (df['trip_distance'] > 0) &\n",
    "                        (df['tip_amount'] >= 0) &\n",
    "                        (df['tolls_amount'] >= 0) &\n",
    "                        (df['improvement_surcharge'] > 0) &\n",
    "                        (df['total_amount'] > 0)]\n",
    "\n",
    "df_clean = df_clean[(df_clean['payment_type'] == 1)] # only credit card payment\n",
    "\n",
    "df_clean['tpep_pickup_datetime'] = df_clean.tpep_pickup_datetime.apply(\n",
    "                                    lambda x:dt.datetime.strptime(x,\"%Y-%m-%d %H:%M:%S\"))\n",
    "\n",
    "\n",
    "df_clean['pickup_month'] = df_clean.tpep_pickup_datetime.apply(lambda x: x.month)\n"
   ]
  },
  {
   "cell_type": "code",
   "execution_count": 10,
   "metadata": {},
   "outputs": [
    {
     "data": {
      "text/plain": [
       "(195, 5)"
      ]
     },
     "execution_count": 10,
     "metadata": {},
     "output_type": "execute_result"
    }
   ],
   "source": [
    "taxi_zone_tip_df = pd.pivot_table(df_clean, values='tip_amount', index=['PULocationID'], columns=['pickup_month'], aggfunc=np.mean)\n",
    "taxi_zone_tip_df['PULocation'] = taxi_zone_tip_df.index\n",
    "taxi_zone_tip_df.shape"
   ]
  },
  {
   "cell_type": "code",
   "execution_count": 11,
   "metadata": {},
   "outputs": [],
   "source": [
    "taxi_zones = gpd.read_file('taxi_zones_tip.shp')"
   ]
  },
  {
   "cell_type": "code",
   "execution_count": 12,
   "metadata": {},
   "outputs": [],
   "source": [
    "taxi_zone_tip = pd.merge(taxi_zones, taxi_zone_tip_df, on='PULocation', how='left')"
   ]
  },
  {
   "cell_type": "code",
   "execution_count": 13,
   "metadata": {},
   "outputs": [
    {
     "data": {
      "text/plain": [
       "((227, 17), (227, 13))"
      ]
     },
     "execution_count": 13,
     "metadata": {},
     "output_type": "execute_result"
    }
   ],
   "source": [
    "taxi_zone_tip.shape, taxi_zones.shape"
   ]
  },
  {
   "cell_type": "code",
   "execution_count": 14,
   "metadata": {},
   "outputs": [],
   "source": [
    "taxi_zone_tip.to_csv('taxi_zone_tip.csv', float_format='%.3f', index=False, header=True, sep=\",\", decimal=\".\")\n"
   ]
  },
  {
   "cell_type": "code",
   "execution_count": null,
   "metadata": {},
   "outputs": [],
   "source": []
  },
  {
   "cell_type": "code",
   "execution_count": null,
   "metadata": {},
   "outputs": [],
   "source": []
  },
  {
   "cell_type": "markdown",
   "metadata": {},
   "source": [
    "## Classic Markov"
   ]
  },
  {
   "cell_type": "code",
   "execution_count": 15,
   "metadata": {},
   "outputs": [],
   "source": [
    "zone_tip = taxi_zone_tip[[3,6,11]]\n",
    "#zone_tip = zone_tip.dropna()\n",
    "\n",
    "zone_tip = np.array(zone_tip)\n",
    "#zone_tip.index = taxi_zone_tip['zone']"
   ]
  },
  {
   "cell_type": "code",
   "execution_count": 16,
   "metadata": {},
   "outputs": [
    {
     "data": {
      "text/plain": [
       "(3, 227)"
      ]
     },
     "execution_count": 16,
     "metadata": {},
     "output_type": "execute_result"
    }
   ],
   "source": [
    "zone_tip_q = np.array([ps.Quantiles(y).yb for y in zone_tip]).transpose()\n",
    "zone_tip_q.shape"
   ]
  },
  {
   "cell_type": "code",
   "execution_count": 17,
   "metadata": {},
   "outputs": [],
   "source": [
    "markov_tip = ps.Markov(zone_tip_q)"
   ]
  },
  {
   "cell_type": "code",
   "execution_count": 18,
   "metadata": {},
   "outputs": [
    {
     "data": {
      "text/plain": [
       "array([0, 2, 4])"
      ]
     },
     "execution_count": 18,
     "metadata": {},
     "output_type": "execute_result"
    }
   ],
   "source": [
    "markov_tip.classes"
   ]
  },
  {
   "cell_type": "code",
   "execution_count": 19,
   "metadata": {},
   "outputs": [
    {
     "data": {
      "text/plain": [
       "array([[270.,  80.,  70.],\n",
       "       [ 75.,  28.,  26.],\n",
       "       [ 75.,  21.,  33.]])"
      ]
     },
     "execution_count": 19,
     "metadata": {},
     "output_type": "execute_result"
    }
   ],
   "source": [
    "markov_tip.transitions"
   ]
  },
  {
   "cell_type": "code",
   "execution_count": 20,
   "metadata": {},
   "outputs": [
    {
     "data": {
      "text/plain": [
       "matrix([[0.64285714, 0.19047619, 0.16666667],\n",
       "        [0.58139535, 0.21705426, 0.20155039],\n",
       "        [0.58139535, 0.1627907 , 0.25581395]])"
      ]
     },
     "execution_count": 20,
     "metadata": {},
     "output_type": "execute_result"
    }
   ],
   "source": [
    "markov_tip.p"
   ]
  },
  {
   "cell_type": "code",
   "execution_count": 21,
   "metadata": {},
   "outputs": [
    {
     "data": {
      "text/plain": [
       "matrix([[0.61946903],\n",
       "        [0.19026549],\n",
       "        [0.19026549]])"
      ]
     },
     "execution_count": 21,
     "metadata": {},
     "output_type": "execute_result"
    }
   ],
   "source": [
    "markov_tip.steady_state"
   ]
  },
  {
   "cell_type": "code",
   "execution_count": 22,
   "metadata": {},
   "outputs": [
    {
     "data": {
      "text/plain": [
       "matrix([[1.61428571, 5.39344262, 5.76393443],\n",
       "        [1.72      , 5.25581395, 5.55737705],\n",
       "        [1.72      , 5.55737705, 5.25581395]])"
      ]
     },
     "execution_count": 22,
     "metadata": {},
     "output_type": "execute_result"
    }
   ],
   "source": [
    "ps.ergodic.fmpt(markov_tip.p)"
   ]
  },
  {
   "cell_type": "code",
   "execution_count": null,
   "metadata": {},
   "outputs": [],
   "source": []
  },
  {
   "cell_type": "markdown",
   "metadata": {},
   "source": [
    "## Spatial Markov"
   ]
  },
  {
   "cell_type": "code",
   "execution_count": 23,
   "metadata": {},
   "outputs": [
    {
     "name": "stdout",
     "output_type": "stream",
     "text": [
      "('WARNING: ', 0, ' is an island (no neighbors)')\n",
      "('WARNING: ', 94, ' is an island (no neighbors)')\n",
      "('WARNING: ', 131, ' is an island (no neighbors)')\n",
      "('WARNING: ', 170, ' is an island (no neighbors)')\n"
     ]
    },
    {
     "data": {
      "text/plain": [
       "<227x227 sparse matrix of type '<class 'numpy.float64'>'\n",
       "\twith 1118 stored elements in Compressed Sparse Row format>"
      ]
     },
     "execution_count": 23,
     "metadata": {},
     "output_type": "execute_result"
    }
   ],
   "source": [
    "W = ps.queen_from_shapefile(\"taxi_zones_tip.shp\")\n",
    "W.transform = 'r'\n",
    "W.sparse"
   ]
  },
  {
   "cell_type": "code",
   "execution_count": 24,
   "metadata": {},
   "outputs": [
    {
     "data": {
      "text/plain": [
       "(3, 227)"
      ]
     },
     "execution_count": 24,
     "metadata": {},
     "output_type": "execute_result"
    }
   ],
   "source": [
    "f = pd.read_csv(\"taxi_zone_tip.csv\",sep=',')\n",
    "pci = np.array([f[str(y)] for y in [3,6,11]])\n",
    "\n",
    "pci.shape"
   ]
  },
  {
   "cell_type": "code",
   "execution_count": 25,
   "metadata": {},
   "outputs": [],
   "source": [
    "pci = pci.transpose()"
   ]
  },
  {
   "cell_type": "code",
   "execution_count": 26,
   "metadata": {},
   "outputs": [
    {
     "data": {
      "text/plain": [
       "(227, 3)"
      ]
     },
     "execution_count": 26,
     "metadata": {},
     "output_type": "execute_result"
    }
   ],
   "source": [
    "pci = np.nan_to_num(pci)\n",
    "rpci = pci / (pci.mean(axis = 0))\n",
    "rpci.shape\n"
   ]
  },
  {
   "cell_type": "code",
   "execution_count": 27,
   "metadata": {},
   "outputs": [],
   "source": [
    "sm = ps.Spatial_Markov(rpci, W, k = 5)"
   ]
  },
  {
   "cell_type": "markdown",
   "metadata": {},
   "source": [
    "The global transition probability matrix for relative tip amount:"
   ]
  },
  {
   "cell_type": "code",
   "execution_count": 28,
   "metadata": {},
   "outputs": [
    {
     "data": {
      "text/plain": [
       "matrix([[0.78807947, 0.0794702 , 0.0397351 , 0.01986755, 0.07284768],\n",
       "        [0.32258065, 0.16129032, 0.16129032, 0.09677419, 0.25806452],\n",
       "        [0.11111111, 0.03333333, 0.58888889, 0.21111111, 0.05555556],\n",
       "        [0.04444444, 0.03333333, 0.24444444, 0.54444444, 0.13333333],\n",
       "        [0.13043478, 0.04347826, 0.04347826, 0.17391304, 0.60869565]])"
      ]
     },
     "execution_count": 28,
     "metadata": {},
     "output_type": "execute_result"
    }
   ],
   "source": [
    "sm.p"
   ]
  },
  {
   "cell_type": "code",
   "execution_count": 29,
   "metadata": {},
   "outputs": [
    {
     "name": "stdout",
     "output_type": "stream",
     "text": [
      "[[0.85074627 0.07462687 0.         0.         0.07462687]\n",
      " [0.66666667 0.         0.         0.16666667 0.16666667]\n",
      " [0.75       0.         0.         0.25       0.        ]\n",
      " [0.5        0.         0.         0.         0.5       ]\n",
      " [0.35714286 0.07142857 0.14285714 0.07142857 0.35714286]]\n",
      "[[0.75       0.06818182 0.06818182 0.02272727 0.09090909]\n",
      " [0.4        0.         0.2        0.2        0.2       ]\n",
      " [0.14285714 0.04761905 0.61904762 0.0952381  0.0952381 ]\n",
      " [0.22222222 0.11111111 0.22222222 0.11111111 0.33333333]\n",
      " [0.4        0.         0.1        0.         0.5       ]]\n",
      "[[0.8        0.         0.         0.         0.2       ]\n",
      " [0.33333333 0.66666667 0.         0.         0.        ]\n",
      " [0.         0.         0.75555556 0.24444444 0.        ]\n",
      " [0.03225806 0.03225806 0.32258065 0.61290323 0.        ]\n",
      " [0.         0.         0.         0.33333333 0.66666667]]\n",
      "[[0.75       0.0625     0.1875     0.         0.        ]\n",
      " [0.         0.14285714 0.42857143 0.14285714 0.28571429]\n",
      " [0.1        0.1        0.4        0.4        0.        ]\n",
      " [0.         0.02631579 0.23684211 0.63157895 0.10526316]\n",
      " [0.05263158 0.10526316 0.05263158 0.31578947 0.47368421]]\n",
      "[[0.68421053 0.15789474 0.         0.10526316 0.05263158]\n",
      " [0.3        0.2        0.1        0.         0.4       ]\n",
      " [0.3        0.1        0.2        0.1        0.3       ]\n",
      " [0.         0.         0.1        0.5        0.4       ]\n",
      " [0.04651163 0.02325581 0.         0.1627907  0.76744186]]\n"
     ]
    }
   ],
   "source": [
    "for p in sm.P:\n",
    "    print(p)"
   ]
  },
  {
   "cell_type": "code",
   "execution_count": null,
   "metadata": {},
   "outputs": [],
   "source": []
  },
  {
   "cell_type": "markdown",
   "metadata": {},
   "source": [
    "The different steady state distributions implied by these different transition probabilities:"
   ]
  },
  {
   "cell_type": "code",
   "execution_count": 30,
   "metadata": {},
   "outputs": [
    {
     "data": {
      "text/plain": [
       "array([[0.76644423, 0.06613441, 0.01787417, 0.02442803, 0.12511916],\n",
       "       [0.52568354, 0.05020878, 0.19518369, 0.04565029, 0.18327371],\n",
       "       [0.11      , 0.033     , 0.45      , 0.341     , 0.066     ],\n",
       "       [0.13106114, 0.06794624, 0.26440618, 0.41641778, 0.12016866],\n",
       "       [0.16002919, 0.05143634, 0.03342011, 0.21592455, 0.53918981]])"
      ]
     },
     "execution_count": 30,
     "metadata": {},
     "output_type": "execute_result"
    }
   ],
   "source": [
    "sm.S"
   ]
  },
  {
   "cell_type": "code",
   "execution_count": null,
   "metadata": {},
   "outputs": [],
   "source": []
  },
  {
   "cell_type": "code",
   "execution_count": 31,
   "metadata": {},
   "outputs": [
    {
     "name": "stdout",
     "output_type": "stream",
     "text": [
      "[[ 1.30472637 13.84324324 56.15333333 43.03414634 11.65333333]\n",
      " [ 1.75       15.12072072 54.40666667 35.82926829  9.90666667]\n",
      " [ 1.54166667 15.14864865 55.94666667 33.27560976 11.44666667]\n",
      " [ 2.16666667 15.06486486 51.32666667 40.93658537  6.82666667]\n",
      " [ 2.33333333 14.28648649 44.5        36.83902439  7.99238095]]\n",
      "[[ 1.90228517 18.34511628 11.67336683 24.53775322  8.99898063]\n",
      " [ 3.30023456 19.91683721  9.84221106 20.13075506  7.60652396]\n",
      " [ 4.73025801 19.18232558  5.1233788  20.79005525  8.56727829]\n",
      " [ 3.82486317 18.19906977  9.52562814 21.9056681   6.46738022]\n",
      " [ 2.9460516  20.51255814 11.33869347 25.78821363  5.45632008]]\n",
      "[[ 9.09090909 87.90909091 13.          8.          5.        ]\n",
      " [ 3.         30.3030303  16.         11.          8.        ]\n",
      " [41.54545455 84.          2.22222222  4.09090909 46.54545455]\n",
      " [37.45454545 79.90909091  5.          2.93255132 42.45454545]\n",
      " [40.45454545 82.90909091  8.          3.         15.15151515]]\n",
      "[[ 7.63002681 15.91855204  4.99003322  7.85170341 18.66666667]\n",
      " [28.27345845 14.71751778  3.96013289  4.32064128 11.33333333]\n",
      " [25.93565684 15.89140271  3.7820598   3.69539078 15.77777778]\n",
      " [29.33512064 17.35746606  4.71760797  2.40143445 13.66666667]\n",
      " [27.74932976 15.49547511  6.02159468  3.91883768  8.32163743]]\n",
      "[[ 6.24886012 17.28896673 36.99730458  8.89403421  6.19468391]\n",
      " [12.86096257 19.44150613 33.85714286  9.12432207  4.12931034]\n",
      " [12.92620321 21.69001751 29.92210243  8.34751773  4.45043103]\n",
      " [20.57754011 28.50963222 31.97304582  4.63124739  2.89008621]\n",
      " [19.99037433 27.7145359  37.46630728  6.99123905  1.85463446]]\n"
     ]
    }
   ],
   "source": [
    "for f in sm.F:\n",
    "    print(f)"
   ]
  },
  {
   "cell_type": "code",
   "execution_count": null,
   "metadata": {},
   "outputs": [],
   "source": []
  },
  {
   "cell_type": "markdown",
   "metadata": {},
   "source": [
    "## LISA Markov"
   ]
  },
  {
   "cell_type": "code",
   "execution_count": 32,
   "metadata": {},
   "outputs": [
    {
     "data": {
      "text/plain": [
       "array([1, 2, 3, 4])"
      ]
     },
     "execution_count": 32,
     "metadata": {},
     "output_type": "execute_result"
    }
   ],
   "source": [
    "lm = ps.LISA_Markov(rpci, W)\n",
    "lm.classes"
   ]
  },
  {
   "cell_type": "code",
   "execution_count": 33,
   "metadata": {},
   "outputs": [
    {
     "data": {
      "text/plain": [
       "array([[ 53.,   3.,   1.,   7.],\n",
       "       [ 14.,  31.,  13.,   4.],\n",
       "       [ 14.,  31., 209.,  26.],\n",
       "       [ 12.,   6.,  15.,  15.]])"
      ]
     },
     "execution_count": 33,
     "metadata": {},
     "output_type": "execute_result"
    }
   ],
   "source": [
    "lm.transitions"
   ]
  },
  {
   "cell_type": "markdown",
   "metadata": {},
   "source": [
    "The estimated transition probability matrix is:"
   ]
  },
  {
   "cell_type": "code",
   "execution_count": 34,
   "metadata": {},
   "outputs": [
    {
     "data": {
      "text/plain": [
       "matrix([[0.828125  , 0.046875  , 0.015625  , 0.109375  ],\n",
       "        [0.22580645, 0.5       , 0.20967742, 0.06451613],\n",
       "        [0.05      , 0.11071429, 0.74642857, 0.09285714],\n",
       "        [0.25      , 0.125     , 0.3125    , 0.3125    ]])"
      ]
     },
     "execution_count": 34,
     "metadata": {},
     "output_type": "execute_result"
    }
   ],
   "source": [
    "lm.p"
   ]
  },
  {
   "cell_type": "markdown",
   "metadata": {},
   "source": [
    "The implied long run steady state distribution of the chain is:"
   ]
  },
  {
   "cell_type": "code",
   "execution_count": 35,
   "metadata": {},
   "outputs": [
    {
     "data": {
      "text/plain": [
       "matrix([[0.44563426],\n",
       "        [0.13759066],\n",
       "        [0.2933462 ],\n",
       "        [0.12342888]])"
      ]
     },
     "execution_count": 35,
     "metadata": {},
     "output_type": "execute_result"
    }
   ],
   "source": [
    "lm.steady_state"
   ]
  },
  {
   "cell_type": "markdown",
   "metadata": {},
   "source": [
    "Finally the first mean passage time for the LISAs is:"
   ]
  },
  {
   "cell_type": "code",
   "execution_count": 36,
   "metadata": {},
   "outputs": [
    {
     "data": {
      "text/plain": [
       "matrix([[ 2.24399264, 14.21740113, 13.35088559,  9.73865557],\n",
       "        [ 6.91112071,  7.26793512,  9.05600766, 10.84241321],\n",
       "        [ 9.54235091, 11.00474576,  3.40894139, 10.59797166],\n",
       "        [ 7.04854509, 11.62666667,  7.95595979,  8.10183169]])"
      ]
     },
     "execution_count": 36,
     "metadata": {},
     "output_type": "execute_result"
    }
   ],
   "source": [
    "ps.ergodic.fmpt(lm.p)"
   ]
  },
  {
   "cell_type": "code",
   "execution_count": null,
   "metadata": {},
   "outputs": [],
   "source": []
  },
  {
   "cell_type": "code",
   "execution_count": null,
   "metadata": {},
   "outputs": [],
   "source": []
  },
  {
   "cell_type": "code",
   "execution_count": null,
   "metadata": {},
   "outputs": [],
   "source": []
  },
  {
   "cell_type": "code",
   "execution_count": null,
   "metadata": {},
   "outputs": [],
   "source": []
  }
 ],
 "metadata": {
  "kernelspec": {
   "display_name": "Python 3",
   "language": "python",
   "name": "python3"
  },
  "language_info": {
   "codemirror_mode": {
    "name": "ipython",
    "version": 3
   },
   "file_extension": ".py",
   "mimetype": "text/x-python",
   "name": "python",
   "nbconvert_exporter": "python",
   "pygments_lexer": "ipython3",
   "version": "3.6.5"
  }
 },
 "nbformat": 4,
 "nbformat_minor": 2
}
