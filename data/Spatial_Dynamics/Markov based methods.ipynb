{
 "cells": [
  {
   "cell_type": "markdown",
   "metadata": {},
   "source": [
    "# Spatial Dynamics: Markov based methods"
   ]
  },
  {
   "cell_type": "markdown",
   "metadata": {},
   "source": [
    "Markov chain's assumption is that the observations are on the rows of the input and the different points in time on the columns."
   ]
  },
  {
   "cell_type": "code",
   "execution_count": 1,
   "metadata": {},
   "outputs": [
    {
     "name": "stderr",
     "output_type": "stream",
     "text": [
      "C:\\Users\\hyelim\\Anaconda3\\lib\\site-packages\\pysal\\__init__.py:65: VisibleDeprecationWarning: PySAL's API will be changed on 2018-12-31. The last release made with this API is version 1.14.4. A preview of the next API version is provided in the `pysal` 2.0 prelease candidate. The API changes and a guide on how to change imports is provided at https://pysal.org/about\n",
      "  ), VisibleDeprecationWarning)\n"
     ]
    },
    {
     "data": {
      "text/plain": [
       "((5, 3), array([['b', 'a', 'c'],\n",
       "        ['c', 'c', 'a'],\n",
       "        ['c', 'b', 'c'],\n",
       "        ['a', 'a', 'b'],\n",
       "        ['a', 'b', 'c']], dtype='<U1'))"
      ]
     },
     "execution_count": 1,
     "metadata": {},
     "output_type": "execute_result"
    }
   ],
   "source": [
    "import pysal\n",
    "import numpy as np\n",
    "\n",
    "# 3 states (a,b,c) and 5 different pixels at three different points in time.\n",
    "# So the first pixel was in class ‘b’ in period 1, class ‘a’ in period 2, and class ‘c’ in period 3.\n",
    "c = np.array([['b','a','c'],['c','c','a'],['c','b','c'],['a','a','b'],['a','b','c']])\n",
    "c.shape, c"
   ]
  },
  {
   "cell_type": "code",
   "execution_count": 2,
   "metadata": {},
   "outputs": [
    {
     "data": {
      "text/plain": [
       "array(['a', 'b', 'c'], dtype='<U1')"
      ]
     },
     "execution_count": 2,
     "metadata": {},
     "output_type": "execute_result"
    }
   ],
   "source": [
    "m = pysal.Markov(c)\n",
    "m.classes  # array (k, 1), all different classes (bins) of the matrix."
   ]
  },
  {
   "cell_type": "code",
   "execution_count": 3,
   "metadata": {},
   "outputs": [
    {
     "data": {
      "text/plain": [
       "array([[1., 2., 1.],\n",
       "       [1., 0., 2.],\n",
       "       [1., 1., 1.]])"
      ]
     },
     "execution_count": 3,
     "metadata": {},
     "output_type": "execute_result"
    }
   ],
   "source": [
    "m.transitions  # matrix (k, k), count of transitions between each state i and j."
   ]
  },
  {
   "cell_type": "code",
   "execution_count": 4,
   "metadata": {},
   "outputs": [
    {
     "data": {
      "text/plain": [
       "matrix([[0.25      , 0.5       , 0.25      ],\n",
       "        [0.33333333, 0.        , 0.66666667],\n",
       "        [0.33333333, 0.33333333, 0.33333333]])"
      ]
     },
     "execution_count": 4,
     "metadata": {},
     "output_type": "execute_result"
    }
   ],
   "source": [
    "m.p  # matrix (k, k), transition probability matrix."
   ]
  },
  {
   "cell_type": "code",
   "execution_count": 5,
   "metadata": {},
   "outputs": [
    {
     "data": {
      "text/plain": [
       "matrix([[0.30769231],\n",
       "        [0.28846154],\n",
       "        [0.40384615]])"
      ]
     },
     "execution_count": 5,
     "metadata": {},
     "output_type": "execute_result"
    }
   ],
   "source": [
    "m.steady_state  # matrix (k, 1), ergodic distribution."
   ]
  },
  {
   "cell_type": "code",
   "execution_count": null,
   "metadata": {},
   "outputs": [],
   "source": []
  },
  {
   "cell_type": "code",
   "execution_count": null,
   "metadata": {},
   "outputs": [],
   "source": []
  },
  {
   "cell_type": "code",
   "execution_count": 2,
   "metadata": {},
   "outputs": [],
   "source": [
    "import geopandas as gpd\n",
    "import pysal as ps\n",
    "import matplotlib.pyplot as plt\n",
    "import pandas as pd\n",
    "import random\n",
    "import numpy as np\n",
    "import datetime as dt\n",
    "import glob\n",
    "import matplotlib.pyplot as plt\n",
    "import seaborn as sns\n",
    "from scipy import stats\n",
    "from pylab import figure, scatter, show\n",
    "from matplotlib import colors\n",
    "import csv\n",
    "import requests\n",
    "import zipfile, urllib, os\n",
    "from urllib.request import Request,urlopen, urlretrieve\n",
    "import urllib\n",
    "import io\n",
    "\n",
    "import warnings\n",
    "warnings.filterwarnings('ignore')"
   ]
  },
  {
   "cell_type": "code",
   "execution_count": 16,
   "metadata": {},
   "outputs": [],
   "source": [
    "urls = ['https://s3.amazonaws.com/nyc-tlc/trip+data/yellow_tripdata_2017-{:02d}.csv'.format(a) for a in range(1,13)]\n",
    "\n",
    "list_ = []\n",
    "for url in urls:\n",
    "    csv_response = requests.get(url)\n",
    "    c = pd.read_csv(io.StringIO(csv_response.text)).sample(frac=0.001)\n",
    "    list_.append(c)\n",
    "    \n",
    "df = pd.concat(list_)"
   ]
  },
  {
   "cell_type": "code",
   "execution_count": 48,
   "metadata": {},
   "outputs": [],
   "source": [
    "df_clean = df[(df['passenger_count'] < 10) & \n",
    "                        (df['passenger_count'] > 0) & \n",
    "                        (df['extra'] >= 0) &\n",
    "                        (df['extra'] <= 1) &\n",
    "                        (df['RatecodeID'] < 7) &\n",
    "                        (df['mta_tax'] >= 0) &\n",
    "                        (df['trip_distance'] > 0) &\n",
    "                        (df['tip_amount'] >= 0) &\n",
    "                        (df['tolls_amount'] >= 0) &\n",
    "                        (df['improvement_surcharge'] > 0) &\n",
    "                        (df['total_amount'] > 0)]\n",
    "\n",
    "df_clean = df_clean[(df_clean['payment_type'] == 1)] # only credit card payment\n",
    "\n",
    "df_clean['tpep_pickup_datetime'] = df_clean.tpep_pickup_datetime.apply(\n",
    "                                    lambda x:dt.datetime.strptime(x,\"%Y-%m-%d %H:%M:%S\"))\n",
    "\n",
    "\n",
    "df_clean['pickup_month'] = df_clean.tpep_pickup_datetime.apply(lambda x: x.month)\n",
    "\n",
    "df_clean = df_clean[(np.abs(stats.zscore(df_clean[['tip_amount']]))<2.5).all(axis=1)]"
   ]
  },
  {
   "cell_type": "code",
   "execution_count": 49,
   "metadata": {},
   "outputs": [
    {
     "data": {
      "text/plain": [
       "(153, 13)"
      ]
     },
     "execution_count": 49,
     "metadata": {},
     "output_type": "execute_result"
    }
   ],
   "source": [
    "taxi_zone_tip_df = pd.pivot_table(df_clean, values='tip_amount', index=['PULocationID'], columns=['pickup_month'], aggfunc=np.mean)\n",
    "taxi_zone_tip_df['PULocation'] = taxi_zone_tip_df.index\n",
    "taxi_zone_tip_df.shape"
   ]
  },
  {
   "cell_type": "code",
   "execution_count": 50,
   "metadata": {},
   "outputs": [],
   "source": [
    "taxi_zones = gpd.read_file('taxi_zones_tip.shp')"
   ]
  },
  {
   "cell_type": "code",
   "execution_count": 51,
   "metadata": {},
   "outputs": [],
   "source": [
    "taxi_zone_tip = pd.merge(taxi_zones, taxi_zone_tip_df, on='PULocation', how='left')"
   ]
  },
  {
   "cell_type": "code",
   "execution_count": 52,
   "metadata": {},
   "outputs": [
    {
     "data": {
      "text/plain": [
       "((227, 25), (227, 13))"
      ]
     },
     "execution_count": 52,
     "metadata": {},
     "output_type": "execute_result"
    }
   ],
   "source": [
    "taxi_zone_tip.shape, taxi_zones.shape"
   ]
  },
  {
   "cell_type": "code",
   "execution_count": 53,
   "metadata": {},
   "outputs": [],
   "source": [
    "taxi_zone_tip.to_csv('taxi_zone_tip.csv', float_format='%.3f', index=False, header=True, sep=\",\", decimal=\".\")\n"
   ]
  },
  {
   "cell_type": "markdown",
   "metadata": {},
   "source": [
    "## Classic Markov"
   ]
  },
  {
   "cell_type": "markdown",
   "metadata": {},
   "source": [
    "In this section, all the spatial units are treated as independent\n",
    "- The transition dynamics are assumed to hold for all units and for all time periods.\n",
    "- Tnteractions between the transitions are ignored."
   ]
  },
  {
   "cell_type": "code",
   "execution_count": 54,
   "metadata": {},
   "outputs": [],
   "source": [
    "zone_tip = taxi_zone_tip[[1,2,3,4,5,6,7,8,9,10,11,12]]\n",
    "#zone_tip = zone_tip.dropna()\n",
    "\n",
    "zone_tip = np.array(zone_tip)\n",
    "#zone_tip.index = taxi_zone_tip['zone']"
   ]
  },
  {
   "cell_type": "code",
   "execution_count": 55,
   "metadata": {},
   "outputs": [
    {
     "data": {
      "text/plain": [
       "(12, 227)"
      ]
     },
     "execution_count": 55,
     "metadata": {},
     "output_type": "execute_result"
    }
   ],
   "source": [
    "zone_tip_q = np.array([ps.Quantiles(y).yb for y in zone_tip]).transpose()\n",
    "zone_tip_q.shape"
   ]
  },
  {
   "cell_type": "code",
   "execution_count": 56,
   "metadata": {},
   "outputs": [],
   "source": [
    "markov_tip = ps.Markov(zone_tip_q)"
   ]
  },
  {
   "cell_type": "code",
   "execution_count": 57,
   "metadata": {},
   "outputs": [
    {
     "data": {
      "text/plain": [
       "array([0, 1, 2, 3, 4])"
      ]
     },
     "execution_count": 57,
     "metadata": {},
     "output_type": "execute_result"
    }
   ],
   "source": [
    "markov_tip.classes"
   ]
  },
  {
   "cell_type": "code",
   "execution_count": 58,
   "metadata": {},
   "outputs": [
    {
     "data": {
      "text/plain": [
       "array([[1507.,  118.,  107.,  108.,  133.],\n",
       "       [ 109.,   25.,   16.,   17.,   17.],\n",
       "       [ 111.,    7.,   11.,   19.,   20.],\n",
       "       [ 102.,   16.,   12.,    7.,   25.],\n",
       "       [ 135.,   20.,   24.,   13.,   33.]])"
      ]
     },
     "execution_count": 58,
     "metadata": {},
     "output_type": "execute_result"
    }
   ],
   "source": [
    "markov_tip.transitions"
   ]
  },
  {
   "cell_type": "markdown",
   "metadata": {},
   "source": [
    "- count of transitions between each state i and j"
   ]
  },
  {
   "cell_type": "code",
   "execution_count": 59,
   "metadata": {},
   "outputs": [
    {
     "data": {
      "text/plain": [
       "matrix([[0.76381145, 0.0598074 , 0.05423213, 0.05473898, 0.06741004],\n",
       "        [0.5923913 , 0.13586957, 0.08695652, 0.0923913 , 0.0923913 ],\n",
       "        [0.66071429, 0.04166667, 0.06547619, 0.11309524, 0.11904762],\n",
       "        [0.62962963, 0.09876543, 0.07407407, 0.04320988, 0.15432099],\n",
       "        [0.6       , 0.08888889, 0.10666667, 0.05777778, 0.14666667]])"
      ]
     },
     "execution_count": 59,
     "metadata": {},
     "output_type": "execute_result"
    }
   ],
   "source": [
    "markov_tip.p"
   ]
  },
  {
   "cell_type": "markdown",
   "metadata": {},
   "source": [
    "- transition probability matrix"
   ]
  },
  {
   "cell_type": "code",
   "execution_count": 60,
   "metadata": {},
   "outputs": [
    {
     "data": {
      "text/plain": [
       "matrix([[0.72362234+0.j],\n",
       "        [0.0687047 +0.j],\n",
       "        [0.06280909+0.j],\n",
       "        [0.06054931+0.j],\n",
       "        [0.08431456+0.j]])"
      ]
     },
     "execution_count": 60,
     "metadata": {},
     "output_type": "execute_result"
    }
   ],
   "source": [
    "markov_tip.steady_state"
   ]
  },
  {
   "cell_type": "markdown",
   "metadata": {},
   "source": [
    "- ergodic distribution.\n",
    "- Prob. of the 1st quantil state of tip amount = 72%\n",
    "\n",
    "\n",
    "\n",
    "    * Ergodicity: a state i is said to be erdodic if it is aperiodic and positive recurrent."
   ]
  },
  {
   "cell_type": "code",
   "execution_count": 61,
   "metadata": {},
   "outputs": [
    {
     "data": {
      "text/plain": [
       "matrix([[ 1.38193633, 15.78475864, 16.16508122, 16.38450127, 12.94027313],\n",
       "        [ 1.66033   , 14.55504498, 15.54990309, 15.67922176, 12.51778618],\n",
       "        [ 1.54774004, 16.01079371, 15.92126172, 15.42358438, 12.20478921],\n",
       "        [ 1.60198185, 15.13934495, 15.74341272, 16.51546533, 11.79774135],\n",
       "        [ 1.64676107, 15.29694245, 15.22368954, 16.25342777, 11.86034745]])"
      ]
     },
     "execution_count": 61,
     "metadata": {},
     "output_type": "execute_result"
    }
   ],
   "source": [
    "ps.ergodic.fmpt(markov_tip.p)"
   ]
  },
  {
   "cell_type": "markdown",
   "metadata": {},
   "source": [
    "- calculates the matrix of first mean passage times for an ergodic transition probability matrix."
   ]
  },
  {
   "cell_type": "markdown",
   "metadata": {},
   "source": [
    "## Spatial Markov"
   ]
  },
  {
   "cell_type": "markdown",
   "metadata": {},
   "source": [
    "The spatial Markov allows us to compare the global transition dynamics to those conditioned on regional context.\n",
    "\n",
    "\n",
    "단순히 전체적으로 한 상태에서 다른 상태로 변환 간으한 확률값을 보여주는 것에서 더 나아가서 각 상태값을 갖는 지역들 가까이에 어던 상태의 지역이 있느냐에 따라 다음 상태로 넘어가는 확률을 보여준다.|"
   ]
  },
  {
   "cell_type": "code",
   "execution_count": 62,
   "metadata": {},
   "outputs": [
    {
     "name": "stdout",
     "output_type": "stream",
     "text": [
      "('WARNING: ', 0, ' is an island (no neighbors)')\n",
      "('WARNING: ', 94, ' is an island (no neighbors)')\n",
      "('WARNING: ', 131, ' is an island (no neighbors)')\n",
      "('WARNING: ', 170, ' is an island (no neighbors)')\n"
     ]
    },
    {
     "data": {
      "text/plain": [
       "<227x227 sparse matrix of type '<class 'numpy.float64'>'\n",
       "\twith 1118 stored elements in Compressed Sparse Row format>"
      ]
     },
     "execution_count": 62,
     "metadata": {},
     "output_type": "execute_result"
    }
   ],
   "source": [
    "W = ps.queen_from_shapefile(\"taxi_zones_tip.shp\")\n",
    "W.transform = 'r'\n",
    "W.sparse"
   ]
  },
  {
   "cell_type": "code",
   "execution_count": 63,
   "metadata": {},
   "outputs": [
    {
     "data": {
      "text/plain": [
       "(3, 227)"
      ]
     },
     "execution_count": 63,
     "metadata": {},
     "output_type": "execute_result"
    }
   ],
   "source": [
    "f = pd.read_csv(\"taxi_zone_tip.csv\",sep=',')\n",
    "pci = np.array([f[str(y)] for y in [3,6,11]])\n",
    "\n",
    "pci.shape"
   ]
  },
  {
   "cell_type": "code",
   "execution_count": 64,
   "metadata": {},
   "outputs": [],
   "source": [
    "pci = pci.transpose()"
   ]
  },
  {
   "cell_type": "code",
   "execution_count": 65,
   "metadata": {},
   "outputs": [
    {
     "data": {
      "text/plain": [
       "(227, 3)"
      ]
     },
     "execution_count": 65,
     "metadata": {},
     "output_type": "execute_result"
    }
   ],
   "source": [
    "pci = np.nan_to_num(pci)\n",
    "rpci = pci / (pci.mean(axis = 0))\n",
    "rpci.shape\n"
   ]
  },
  {
   "cell_type": "code",
   "execution_count": 66,
   "metadata": {},
   "outputs": [],
   "source": [
    "sm = ps.Spatial_Markov(rpci, W, k = 5)"
   ]
  },
  {
   "cell_type": "markdown",
   "metadata": {},
   "source": [
    "The global transition probability matrix for relative tip amount:"
   ]
  },
  {
   "cell_type": "code",
   "execution_count": 67,
   "metadata": {},
   "outputs": [
    {
     "data": {
      "text/plain": [
       "matrix([[0.91954023, 0.01915709, 0.02298851, 0.03831418],\n",
       "        [0.45454545, 0.27272727, 0.27272727, 0.        ],\n",
       "        [0.04395604, 0.35164835, 0.49450549, 0.10989011],\n",
       "        [0.15384615, 0.15384615, 0.40659341, 0.28571429]])"
      ]
     },
     "execution_count": 67,
     "metadata": {},
     "output_type": "execute_result"
    }
   ],
   "source": [
    "sm.p"
   ]
  },
  {
   "cell_type": "code",
   "execution_count": 68,
   "metadata": {},
   "outputs": [
    {
     "name": "stdout",
     "output_type": "stream",
     "text": [
      "[[0.94545455 0.01212121 0.01818182 0.02424242 0.        ]\n",
      " [0.         0.         0.         0.         0.        ]\n",
      " [0.         0.         0.         0.         0.        ]\n",
      " [0.66666667 0.         0.         0.33333333 0.        ]\n",
      " [0.         0.         0.         0.         0.        ]]\n",
      "[[1.   0.   0.   0.   0.  ]\n",
      " [0.   0.   0.   0.   0.  ]\n",
      " [0.   0.   0.   0.   0.  ]\n",
      " [0.5  0.   0.25 0.25 0.  ]\n",
      " [0.   0.   0.   0.   0.  ]]\n",
      "[[0.89830508 0.01694915 0.03389831 0.05084746 0.        ]\n",
      " [0.5        0.33333333 0.16666667 0.         0.        ]\n",
      " [0.33333333 0.33333333 0.11111111 0.22222222 0.        ]\n",
      " [0.5        0.1875     0.0625     0.25       0.        ]\n",
      " [0.         0.         0.         0.         0.        ]]\n",
      "[[0.8        0.06666667 0.         0.13333333 0.        ]\n",
      " [0.         0.33333333 0.66666667 0.         0.        ]\n",
      " [0.02222222 0.42222222 0.48888889 0.06666667 0.        ]\n",
      " [0.03703704 0.18518519 0.40740741 0.37037037 0.        ]\n",
      " [0.         0.         0.         0.         0.        ]]\n",
      "[[0.75       0.08333333 0.08333333 0.08333333 0.        ]\n",
      " [1.         0.         0.         0.         0.        ]\n",
      " [0.         0.27027027 0.59459459 0.13513514 0.        ]\n",
      " [0.02439024 0.14634146 0.58536585 0.24390244 0.        ]\n",
      " [0.         0.         0.         0.         0.        ]]\n"
     ]
    }
   ],
   "source": [
    "for p in sm.P:\n",
    "    print(p)"
   ]
  },
  {
   "cell_type": "markdown",
   "metadata": {},
   "source": [
    "The different steady state distributions implied by these different transition probabilities:"
   ]
  },
  {
   "cell_type": "markdown",
   "metadata": {},
   "source": [
    "- The prob. of the 1st quantil state remaining in the 1st quantil \n",
    "    - if their neighbors are in the 1st quantil: 0.945\n",
    "    - if their neighbors are in the 5th quantil: 0.75\n",
    "\n",
    "- The prob. of the 5th quantil state reamining in the 5th quantil: 0"
   ]
  },
  {
   "cell_type": "code",
   "execution_count": 42,
   "metadata": {},
   "outputs": [
    {
     "name": "stdout",
     "output_type": "stream",
     "text": [
      "[[  1.06181779  78.66949632 158.36978515  30.50032936   1.        ]\n",
      " [  2.04997403  79.70028883 159.40057766  31.27632649   1.        ]\n",
      " [  2.04997403  79.70028883 159.40057766  31.27632649   1.        ]\n",
      " [  1.22690895  79.89640527 159.5966941   25.38179064   1.        ]\n",
      " [  2.04997403  79.70028883 159.40057766  31.27632649   1.        ]]\n",
      "[[1.   1.   1.   1.5  1.  ]\n",
      " [2.   1.   1.   1.5  1.  ]\n",
      " [1.   1.   1.   1.5  1.  ]\n",
      " [1.75 1.   0.75 1.   1.  ]\n",
      " [2.   1.   1.   1.5  1.  ]]\n",
      "[[ 1.47250032 31.09090909 16.10029499  7.24363636  1.        ]\n",
      " [ 2.07578254 31.06818182 14.33628319  5.97818182  1.        ]\n",
      " [ 3.32454695 27.45454545 11.4252704   3.60727273  1.        ]\n",
      " [ 2.64085667 28.81818182 13.09439528  4.97090909  1.        ]\n",
      " [ 2.889058   31.31469825 16.02963523  7.42742553  1.        ]]\n",
      "[[ 1.         14.93333333  5.1         3.33333333  1.        ]\n",
      " [ 6.5         1.         10.2         6.66666667  1.        ]\n",
      " [ 6.5        14.78333333  1.          2.08333333  1.        ]\n",
      " [ 6.5        16.86666667  0.          1.          1.        ]\n",
      " [ 6.5         2.         10.2         6.66666667  1.        ]]\n",
      "[[12.25252525 36.01587302  7.08585859  3.66666667  1.        ]\n",
      " [26.02469136 34.65714286  5.2020202   3.1965812   1.        ]\n",
      " [42.60493827 31.55555556  2.12062937  3.64957265  1.        ]\n",
      " [41.25925926 32.34920635  3.41919192  2.39250493  1.        ]\n",
      " [40.08683704 33.3408053   4.15754411  4.11247807  1.        ]]\n"
     ]
    }
   ],
   "source": [
    "for f in sm.F:\n",
    "    print(f)"
   ]
  },
  {
   "cell_type": "markdown",
   "metadata": {},
   "source": [
    "- The 1st quantil state with neighbors in the 1st quantil\n",
    "    - return to the 1st qauntil after 1.06 months after leaving the 1st quantil\n",
    "    - they enter the 5th quanil a month after.\n",
    "\n",
    "- The 1st quantil state within neighbors in the 5th quantil\n",
    "    - return to the 1st quatil after 12.5 months\n",
    "    - enter the 5th quantil after a month."
   ]
  },
  {
   "cell_type": "markdown",
   "metadata": {},
   "source": [
    "## LISA (Local Indicators of Spatial Associations) Markov"
   ]
  },
  {
   "cell_type": "markdown",
   "metadata": {},
   "source": [
    "To consider the joint transitions of an observation and its spatial lag in the distribution\n",
    "- the staties of the chain are defined as the four quadrants in the Moran scatter plot."
   ]
  },
  {
   "cell_type": "code",
   "execution_count": 74,
   "metadata": {},
   "outputs": [
    {
     "data": {
      "text/plain": [
       "array([1, 2, 3, 4])"
      ]
     },
     "execution_count": 74,
     "metadata": {},
     "output_type": "execute_result"
    }
   ],
   "source": [
    "lm = ps.LISA_Markov(rpci, W)\n",
    "lm.classes"
   ]
  },
  {
   "cell_type": "code",
   "execution_count": 75,
   "metadata": {},
   "outputs": [
    {
     "data": {
      "text/plain": [
       "array([[151.,   9.,   7.,   6.],\n",
       "       [  6.,  30.,  27.,   1.],\n",
       "       [  6.,  15., 174.,   7.],\n",
       "       [  2.,   2.,   6.,   5.]])"
      ]
     },
     "execution_count": 75,
     "metadata": {},
     "output_type": "execute_result"
    }
   ],
   "source": [
    "lm.transitions"
   ]
  },
  {
   "cell_type": "markdown",
   "metadata": {},
   "source": [
    "The estimated transition probability matrix is:"
   ]
  },
  {
   "cell_type": "code",
   "execution_count": 76,
   "metadata": {},
   "outputs": [
    {
     "data": {
      "text/plain": [
       "matrix([[0.87283237, 0.05202312, 0.04046243, 0.03468208],\n",
       "        [0.09375   , 0.46875   , 0.421875  , 0.015625  ],\n",
       "        [0.02970297, 0.07425743, 0.86138614, 0.03465347],\n",
       "        [0.13333333, 0.13333333, 0.4       , 0.33333333]])"
      ]
     },
     "execution_count": 76,
     "metadata": {},
     "output_type": "execute_result"
    }
   ],
   "source": [
    "lm.p"
   ]
  },
  {
   "cell_type": "markdown",
   "metadata": {},
   "source": [
    "- The diagonal values indicate the staying prob. and the staying prob. of the 1st and 3rd quantil is high."
   ]
  },
  {
   "cell_type": "markdown",
   "metadata": {},
   "source": [
    "The implied long run steady state distribution of the chain is:"
   ]
  },
  {
   "cell_type": "code",
   "execution_count": 77,
   "metadata": {},
   "outputs": [
    {
     "data": {
      "text/plain": [
       "matrix([[0.26779055],\n",
       "        [0.11731473],\n",
       "        [0.56865506],\n",
       "        [0.04623967]])"
      ]
     },
     "execution_count": 77,
     "metadata": {},
     "output_type": "execute_result"
    }
   ],
   "source": [
    "lm.steady_state"
   ]
  },
  {
   "cell_type": "markdown",
   "metadata": {},
   "source": [
    "- The 3rd quantil state might have a positive autocorrelation."
   ]
  },
  {
   "cell_type": "markdown",
   "metadata": {},
   "source": [
    "Finally the first mean passage time for the LISAs is:"
   ]
  },
  {
   "cell_type": "code",
   "execution_count": 78,
   "metadata": {},
   "outputs": [
    {
     "data": {
      "text/plain": [
       "matrix([[ 3.73426178, 15.8043687 , 10.65911222, 30.63673994],\n",
       "        [21.10261512,  8.52407885,  3.89309159, 31.72966029],\n",
       "        [23.46986924, 13.84253481,  1.75853531, 30.77733371],\n",
       "        [19.80244457, 12.96639462,  4.41044076, 21.62645352]])"
      ]
     },
     "execution_count": 78,
     "metadata": {},
     "output_type": "execute_result"
    }
   ],
   "source": [
    "ps.ergodic.fmpt(lm.p)"
   ]
  },
  {
   "cell_type": "code",
   "execution_count": null,
   "metadata": {},
   "outputs": [],
   "source": []
  },
  {
   "cell_type": "code",
   "execution_count": null,
   "metadata": {},
   "outputs": [],
   "source": []
  },
  {
   "cell_type": "code",
   "execution_count": null,
   "metadata": {},
   "outputs": [],
   "source": []
  }
 ],
 "metadata": {
  "kernelspec": {
   "display_name": "Python 3",
   "language": "python",
   "name": "python3"
  },
  "language_info": {
   "codemirror_mode": {
    "name": "ipython",
    "version": 3
   },
   "file_extension": ".py",
   "mimetype": "text/x-python",
   "name": "python",
   "nbconvert_exporter": "python",
   "pygments_lexer": "ipython3",
   "version": "3.6.5"
  }
 },
 "nbformat": 4,
 "nbformat_minor": 2
}
